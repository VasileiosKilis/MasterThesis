{
 "cells": [
  {
   "cell_type": "markdown",
   "metadata": {},
   "source": [
    "# Single-step model\n",
    "We run all the examples in Jupyter notebook.\n",
    "We start by importing usefull modules and checking if we have the correct versions installed."
   ]
  },
  {
   "cell_type": "code",
   "execution_count": 1,
   "metadata": {},
   "outputs": [
    {
     "name": "stderr",
     "output_type": "stream",
     "text": [
      "Using TensorFlow backend.\n"
     ]
    }
   ],
   "source": [
    "import tensorflow as tf\n",
    "from keras import optimizers\n",
    "\n",
    "import sys\n",
    "assert sys.version_info >= (3,5)\n",
    "\n",
    "import sklearn\n",
    "assert sklearn.__version__ >= \"0.20\"\n",
    "\n",
    "# Common imports\n",
    "import numpy as np\n",
    "import os\n",
    "import pandas as pd\n",
    "\n",
    "\n",
    "# min-maxScaler\n",
    "from sklearn.preprocessing import MinMaxScaler\n",
    "\n",
    "# plot\n",
    "%matplotlib inline\n",
    "import matplotlib as mpl\n",
    "import matplotlib.pyplot as plt\n",
    "\n",
    "from math import sqrt"
   ]
  },
  {
   "cell_type": "markdown",
   "metadata": {},
   "source": [
    "# Here we import the data, the first comments is an example of how we import the data on mac the second on windows."
   ]
  },
  {
   "cell_type": "code",
   "execution_count": 2,
   "metadata": {},
   "outputs": [
    {
     "data": {
      "text/html": [
       "<div>\n",
       "<style scoped>\n",
       "    .dataframe tbody tr th:only-of-type {\n",
       "        vertical-align: middle;\n",
       "    }\n",
       "\n",
       "    .dataframe tbody tr th {\n",
       "        vertical-align: top;\n",
       "    }\n",
       "\n",
       "    .dataframe thead th {\n",
       "        text-align: right;\n",
       "    }\n",
       "</style>\n",
       "<table border=\"1\" class=\"dataframe\">\n",
       "  <thead>\n",
       "    <tr style=\"text-align: right;\">\n",
       "      <th></th>\n",
       "      <th>Date</th>\n",
       "      <th>Open</th>\n",
       "      <th>High</th>\n",
       "      <th>Low</th>\n",
       "      <th>Close</th>\n",
       "      <th>Adj Close</th>\n",
       "      <th>Volume</th>\n",
       "    </tr>\n",
       "  </thead>\n",
       "  <tbody>\n",
       "    <tr>\n",
       "      <th>0</th>\n",
       "      <td>2008-06-09</td>\n",
       "      <td>26.398571</td>\n",
       "      <td>26.420000</td>\n",
       "      <td>25.107143</td>\n",
       "      <td>25.944286</td>\n",
       "      <td>22.459904</td>\n",
       "      <td>472098200</td>\n",
       "    </tr>\n",
       "    <tr>\n",
       "      <th>1</th>\n",
       "      <td>2008-06-10</td>\n",
       "      <td>25.787144</td>\n",
       "      <td>26.682858</td>\n",
       "      <td>25.574286</td>\n",
       "      <td>26.520000</td>\n",
       "      <td>22.958296</td>\n",
       "      <td>285235300</td>\n",
       "    </tr>\n",
       "    <tr>\n",
       "      <th>2</th>\n",
       "      <td>2008-06-11</td>\n",
       "      <td>26.334286</td>\n",
       "      <td>26.571428</td>\n",
       "      <td>25.655714</td>\n",
       "      <td>25.830000</td>\n",
       "      <td>22.360960</td>\n",
       "      <td>240387700</td>\n",
       "    </tr>\n",
       "    <tr>\n",
       "      <th>3</th>\n",
       "      <td>2008-06-12</td>\n",
       "      <td>25.927143</td>\n",
       "      <td>26.085714</td>\n",
       "      <td>24.457144</td>\n",
       "      <td>24.751429</td>\n",
       "      <td>21.427246</td>\n",
       "      <td>327083400</td>\n",
       "    </tr>\n",
       "    <tr>\n",
       "      <th>4</th>\n",
       "      <td>2008-06-13</td>\n",
       "      <td>24.520000</td>\n",
       "      <td>24.879999</td>\n",
       "      <td>23.615715</td>\n",
       "      <td>24.624287</td>\n",
       "      <td>21.317177</td>\n",
       "      <td>336489300</td>\n",
       "    </tr>\n",
       "  </tbody>\n",
       "</table>\n",
       "</div>"
      ],
      "text/plain": [
       "         Date       Open       High        Low      Close  Adj Close  \\\n",
       "0  2008-06-09  26.398571  26.420000  25.107143  25.944286  22.459904   \n",
       "1  2008-06-10  25.787144  26.682858  25.574286  26.520000  22.958296   \n",
       "2  2008-06-11  26.334286  26.571428  25.655714  25.830000  22.360960   \n",
       "3  2008-06-12  25.927143  26.085714  24.457144  24.751429  21.427246   \n",
       "4  2008-06-13  24.520000  24.879999  23.615715  24.624287  21.317177   \n",
       "\n",
       "      Volume  \n",
       "0  472098200  \n",
       "1  285235300  \n",
       "2  240387700  \n",
       "3  327083400  \n",
       "4  336489300  "
      ]
     },
     "execution_count": 2,
     "metadata": {},
     "output_type": "execute_result"
    }
   ],
   "source": [
    "# \"/Users/vasileioskilis/Desktop/projectA1988/dataset/GOOGL5yearsd.csv\"\n",
    "# \"C:\\\\Users\\\\KILDE\\\\Desktop\\\\vxk969\\\\dataset\\\\AAPL_.csv\"\n",
    "stock=pd.read_csv(\"C:\\\\Users\\\\KILDE\\\\Desktop\\\\vxk969\\\\dataset\\\\AAPL_.csv\")\n",
    "stock.head()"
   ]
  },
  {
   "cell_type": "markdown",
   "metadata": {},
   "source": [
    "# Here we check for null values, the types of the data, histogram"
   ]
  },
  {
   "cell_type": "code",
   "execution_count": 3,
   "metadata": {},
   "outputs": [
    {
     "data": {
      "text/plain": [
       "Date         0\n",
       "Open         0\n",
       "High         0\n",
       "Low          0\n",
       "Close        0\n",
       "Adj Close    0\n",
       "Volume       0\n",
       "dtype: int64"
      ]
     },
     "execution_count": 3,
     "metadata": {},
     "output_type": "execute_result"
    }
   ],
   "source": [
    "stock.isnull().sum()"
   ]
  },
  {
   "cell_type": "code",
   "execution_count": 4,
   "metadata": {},
   "outputs": [
    {
     "name": "stdout",
     "output_type": "stream",
     "text": [
      "<class 'pandas.core.frame.DataFrame'>\n",
      "RangeIndex: 2031 entries, 0 to 2030\n",
      "Data columns (total 7 columns):\n",
      " #   Column     Non-Null Count  Dtype  \n",
      "---  ------     --------------  -----  \n",
      " 0   Date       2031 non-null   object \n",
      " 1   Open       2031 non-null   float64\n",
      " 2   High       2031 non-null   float64\n",
      " 3   Low        2031 non-null   float64\n",
      " 4   Close      2031 non-null   float64\n",
      " 5   Adj Close  2031 non-null   float64\n",
      " 6   Volume     2031 non-null   int64  \n",
      "dtypes: float64(5), int64(1), object(1)\n",
      "memory usage: 111.2+ KB\n"
     ]
    }
   ],
   "source": [
    "stock.info()"
   ]
  },
  {
   "cell_type": "code",
   "execution_count": 5,
   "metadata": {},
   "outputs": [
    {
     "data": {
      "text/plain": [
       "2012-03-30    1\n",
       "2010-10-15    1\n",
       "2013-11-14    1\n",
       "2013-03-01    1\n",
       "2010-06-09    1\n",
       "             ..\n",
       "2012-02-15    1\n",
       "2011-04-21    1\n",
       "2011-09-21    1\n",
       "2010-06-02    1\n",
       "2011-04-04    1\n",
       "Name: Date, Length: 2031, dtype: int64"
      ]
     },
     "execution_count": 5,
     "metadata": {},
     "output_type": "execute_result"
    }
   ],
   "source": [
    " stock[\"Date\"].value_counts()"
   ]
  },
  {
   "cell_type": "code",
   "execution_count": 6,
   "metadata": {
    "scrolled": true
   },
   "outputs": [
    {
     "data": {
      "text/html": [
       "<div>\n",
       "<style scoped>\n",
       "    .dataframe tbody tr th:only-of-type {\n",
       "        vertical-align: middle;\n",
       "    }\n",
       "\n",
       "    .dataframe tbody tr th {\n",
       "        vertical-align: top;\n",
       "    }\n",
       "\n",
       "    .dataframe thead th {\n",
       "        text-align: right;\n",
       "    }\n",
       "</style>\n",
       "<table border=\"1\" class=\"dataframe\">\n",
       "  <thead>\n",
       "    <tr style=\"text-align: right;\">\n",
       "      <th></th>\n",
       "      <th>Open</th>\n",
       "      <th>High</th>\n",
       "      <th>Low</th>\n",
       "      <th>Close</th>\n",
       "      <th>Adj Close</th>\n",
       "      <th>Volume</th>\n",
       "    </tr>\n",
       "  </thead>\n",
       "  <tbody>\n",
       "    <tr>\n",
       "      <th>count</th>\n",
       "      <td>2031.000000</td>\n",
       "      <td>2031.000000</td>\n",
       "      <td>2031.000000</td>\n",
       "      <td>2031.000000</td>\n",
       "      <td>2031.000000</td>\n",
       "      <td>2.031000e+03</td>\n",
       "    </tr>\n",
       "    <tr>\n",
       "      <th>mean</th>\n",
       "      <td>66.012763</td>\n",
       "      <td>66.640247</td>\n",
       "      <td>65.306271</td>\n",
       "      <td>65.981170</td>\n",
       "      <td>59.043462</td>\n",
       "      <td>1.166828e+08</td>\n",
       "    </tr>\n",
       "    <tr>\n",
       "      <th>std</th>\n",
       "      <td>33.868839</td>\n",
       "      <td>34.121268</td>\n",
       "      <td>33.576296</td>\n",
       "      <td>33.843356</td>\n",
       "      <td>31.556020</td>\n",
       "      <td>7.934929e+07</td>\n",
       "    </tr>\n",
       "    <tr>\n",
       "      <th>min</th>\n",
       "      <td>11.341429</td>\n",
       "      <td>11.714286</td>\n",
       "      <td>11.171429</td>\n",
       "      <td>11.171429</td>\n",
       "      <td>9.671075</td>\n",
       "      <td>1.304640e+07</td>\n",
       "    </tr>\n",
       "    <tr>\n",
       "      <th>25%</th>\n",
       "      <td>36.172857</td>\n",
       "      <td>36.612856</td>\n",
       "      <td>35.585714</td>\n",
       "      <td>36.077858</td>\n",
       "      <td>31.232503</td>\n",
       "      <td>6.193420e+07</td>\n",
       "    </tr>\n",
       "    <tr>\n",
       "      <th>50%</th>\n",
       "      <td>64.472855</td>\n",
       "      <td>65.134285</td>\n",
       "      <td>63.627144</td>\n",
       "      <td>64.302856</td>\n",
       "      <td>56.453358</td>\n",
       "      <td>9.826880e+07</td>\n",
       "    </tr>\n",
       "    <tr>\n",
       "      <th>75%</th>\n",
       "      <td>94.365002</td>\n",
       "      <td>95.355000</td>\n",
       "      <td>93.444999</td>\n",
       "      <td>94.385002</td>\n",
       "      <td>85.107551</td>\n",
       "      <td>1.487752e+08</td>\n",
       "    </tr>\n",
       "    <tr>\n",
       "      <th>max</th>\n",
       "      <td>134.460007</td>\n",
       "      <td>134.539993</td>\n",
       "      <td>131.399994</td>\n",
       "      <td>133.000000</td>\n",
       "      <td>122.150032</td>\n",
       "      <td>6.555143e+08</td>\n",
       "    </tr>\n",
       "  </tbody>\n",
       "</table>\n",
       "</div>"
      ],
      "text/plain": [
       "              Open         High          Low        Close    Adj Close  \\\n",
       "count  2031.000000  2031.000000  2031.000000  2031.000000  2031.000000   \n",
       "mean     66.012763    66.640247    65.306271    65.981170    59.043462   \n",
       "std      33.868839    34.121268    33.576296    33.843356    31.556020   \n",
       "min      11.341429    11.714286    11.171429    11.171429     9.671075   \n",
       "25%      36.172857    36.612856    35.585714    36.077858    31.232503   \n",
       "50%      64.472855    65.134285    63.627144    64.302856    56.453358   \n",
       "75%      94.365002    95.355000    93.444999    94.385002    85.107551   \n",
       "max     134.460007   134.539993   131.399994   133.000000   122.150032   \n",
       "\n",
       "             Volume  \n",
       "count  2.031000e+03  \n",
       "mean   1.166828e+08  \n",
       "std    7.934929e+07  \n",
       "min    1.304640e+07  \n",
       "25%    6.193420e+07  \n",
       "50%    9.826880e+07  \n",
       "75%    1.487752e+08  \n",
       "max    6.555143e+08  "
      ]
     },
     "execution_count": 6,
     "metadata": {},
     "output_type": "execute_result"
    }
   ],
   "source": [
    "stock.describe()"
   ]
  },
  {
   "cell_type": "code",
   "execution_count": 7,
   "metadata": {},
   "outputs": [
    {
     "data": {
      "image/png": "[encoded data removed]",
      "text/plain": [
       "<Figure size 1440x1080 with 6 Axes>"
      ]
     },
     "metadata": {
      "needs_background": "light"
     },
     "output_type": "display_data"
    }
   ],
   "source": [
    "%matplotlib inline\n",
    "import matplotlib.pyplot as plt\n",
    "stock.hist(bins=50, figsize=(20,15))\n",
    "plt.show()"
   ]
  },
  {
   "cell_type": "markdown",
   "metadata": {},
   "source": [
    "# We create a panada series, with Date as an index to the closing price and plot it"
   ]
  },
  {
   "cell_type": "code",
   "execution_count": 8,
   "metadata": {},
   "outputs": [
    {
     "data": {
      "text/plain": [
       "Date\n",
       "2008-06-09    25.944286\n",
       "2008-06-10    26.520000\n",
       "2008-06-11    25.830000\n",
       "2008-06-12    24.751429\n",
       "2008-06-13    24.624287\n",
       "Name: Close, dtype: float64"
      ]
     },
     "execution_count": 8,
     "metadata": {},
     "output_type": "execute_result"
    }
   ],
   "source": [
    "close_price = stock['Close']\n",
    "close_price.index = stock['Date']\n",
    "close_price.head()"
   ]
  },
  {
   "cell_type": "code",
   "execution_count": 9,
   "metadata": {
    "scrolled": true
   },
   "outputs": [
    {
     "data": {
      "text/plain": [
       "array([<matplotlib.axes._subplots.AxesSubplot object at 0x00000215A434C288>],\n",
       "      dtype=object)"
      ]
     },
     "execution_count": 9,
     "metadata": {},
     "output_type": "execute_result"
    },
    {
     "data": {
      "image/png": "[encoded data removed]",
      "text/plain": [
       "<Figure size 432x288 with 1 Axes>"
      ]
     },
     "metadata": {
      "needs_background": "light"
     },
     "output_type": "display_data"
    }
   ],
   "source": [
    "close_price.plot(subplots=True, title='Historical close price of the stock')"
   ]
  },
  {
   "cell_type": "markdown",
   "metadata": {},
   "source": [
    "# Reshape close price and scale the data"
   ]
  },
  {
   "cell_type": "code",
   "execution_count": 10,
   "metadata": {},
   "outputs": [],
   "source": [
    "close_price = stock.Close.values"
   ]
  },
  {
   "cell_type": "code",
   "execution_count": 11,
   "metadata": {},
   "outputs": [],
   "source": [
    "close_price = np.reshape(close_price,(-1,1))"
   ]
  },
  {
   "cell_type": "code",
   "execution_count": 12,
   "metadata": {},
   "outputs": [],
   "source": [
    "scaler = MinMaxScaler()\n",
    "data_normalised = scaler.fit_transform(close_price)"
   ]
  },
  {
   "cell_type": "markdown",
   "metadata": {},
   "source": [
    "# We split the dataset into 80% train, 10% validation and 10% test"
   ]
  },
  {
   "cell_type": "code",
   "execution_count": 13,
   "metadata": {},
   "outputs": [],
   "source": [
    "train_size = int(len(data_normalised) * 0.80)\n",
    "half_rest = int((len(data_normalised) - train_size)/2)\n",
    "\n",
    "train_set = data_normalised[0:train_size,:]\n",
    "val_set = data_normalised[train_size:train_size+half_rest,:]\n",
    "test_set = data_normalised[train_size+half_rest:len(data_normalised),:]"
   ]
  },
  {
   "cell_type": "markdown",
   "metadata": {},
   "source": [
    "# Method that creates sliding windows"
   ]
  },
  {
   "cell_type": "code",
   "execution_count": 14,
   "metadata": {},
   "outputs": [],
   "source": [
    "def createWindows(dataset, window):\n",
    "    X_train = []\n",
    "    Y_train = []\n",
    "    \n",
    "    for i in range(len(dataset)-window-1):\n",
    "        X_train.append(dataset[i:(i+window),0])\n",
    "        Y_train.append(dataset[i+window,0])\n",
    "    return np.array(X_train),np.array(Y_train)"
   ]
  },
  {
   "cell_type": "markdown",
   "metadata": {},
   "source": [
    "# Create the windows and reshape the data so we can feed them to the LSTM\n",
    "\n",
    "Input shape for an lstm (batch_size, time_steps, seq_len), window size 20 ,single step prediction the last element of the window is the target"
   ]
  },
  {
   "cell_type": "code",
   "execution_count": 15,
   "metadata": {},
   "outputs": [],
   "source": [
    "X_train, Y_train = createWindows(train_set,20)\n",
    "X_train = np.reshape(X_train, (X_train.shape[0], 1, X_train.shape[1]))"
   ]
  },
  {
   "cell_type": "code",
   "execution_count": 16,
   "metadata": {},
   "outputs": [],
   "source": [
    "X_val, Y_val = createWindows(val_set,20)\n",
    "X_val = np.reshape(X_val, (X_val.shape[0], 1, X_val.shape[1]))"
   ]
  },
  {
   "cell_type": "code",
   "execution_count": 17,
   "metadata": {},
   "outputs": [],
   "source": [
    "X_test, Y_test = createWindows(test_set,20)\n",
    "X_test = np.reshape(X_test, (X_test.shape[0], 1, X_test.shape[1]))"
   ]
  },
  {
   "cell_type": "markdown",
   "metadata": {},
   "source": [
    "# We combine the X_train and Y_train to tensors and shuffle them, also we choose the batch size"
   ]
  },
  {
   "cell_type": "code",
   "execution_count": 18,
   "metadata": {},
   "outputs": [],
   "source": [
    "BATCH_SIZE = 60\n",
    "BUFFER_SIZE = 10000\n",
    "\n",
    "train_univariate = tf.data.Dataset.from_tensor_slices((X_train, Y_train))\n",
    "train_univariate = train_univariate.cache().shuffle(BUFFER_SIZE).batch(BATCH_SIZE).repeat()\n",
    "\n",
    "val_univariate = tf.data.Dataset.from_tensor_slices((X_val, Y_val))\n",
    "val_univariate = val_univariate.batch(BATCH_SIZE).repeat()"
   ]
  },
  {
   "cell_type": "markdown",
   "metadata": {},
   "source": [
    "# Exponential learning rate \n",
    " We used that only for the experiments when we were tring to find the best model."
   ]
  },
  {
   "cell_type": "code",
   "execution_count": 19,
   "metadata": {},
   "outputs": [],
   "source": [
    "# def scheduler(epoch, lr):\n",
    "#   if epoch < 10:\n",
    "#     return lr\n",
    "#   else:\n",
    "#     return lr * tf.math.exp(-0.1)"
   ]
  },
  {
   "cell_type": "code",
   "execution_count": 20,
   "metadata": {},
   "outputs": [],
   "source": [
    "# def exponential_decay_fn(epoch):\n",
    "# return 0.01 * 0.1**(epoch / 20)"
   ]
  },
  {
   "cell_type": "code",
   "execution_count": 21,
   "metadata": {},
   "outputs": [],
   "source": [
    "# callback = tf.keras.callbacks.LearningRateScheduler(scheduler)"
   ]
  },
  {
   "cell_type": "markdown",
   "metadata": {},
   "source": [
    "Here we were changing the learning's rate value for the experiments"
   ]
  },
  {
   "cell_type": "code",
   "execution_count": 22,
   "metadata": {},
   "outputs": [],
   "source": [
    " opt = tf.keras.optimizers.Adam(learning_rate=0.001)"
   ]
  },
  {
   "cell_type": "markdown",
   "metadata": {},
   "source": [
    "# Model\n",
    "This is the best model we found"
   ]
  },
  {
   "cell_type": "code",
   "execution_count": 23,
   "metadata": {},
   "outputs": [],
   "source": [
    "model = tf.keras.models.Sequential([\n",
    "    tf.keras.layers.LSTM(200, return_sequences=True, input_shape= X_train.shape[-2:]),\n",
    "    tf.keras.layers.Dropout(0.2),\n",
    "    tf.keras.layers.LSTM(200),\n",
    "    tf.keras.layers.Dropout(0.2),\n",
    "    tf.keras.layers.Activation('sigmoid'),\n",
    "    tf.keras.layers.Dense(1)\n",
    "    ])\n",
    "\n",
    "# simple_lstm_model.compile(tf.keras.optimizers.Adam(learning_rate=0.003),loss=\"mse\" )\n",
    "model.compile(loss=\"mse\", optimizer=opt)"
   ]
  },
  {
   "cell_type": "markdown",
   "metadata": {},
   "source": [
    "Here we were just checking that the learning rate has the correct value"
   ]
  },
  {
   "cell_type": "code",
   "execution_count": 24,
   "metadata": {},
   "outputs": [
    {
     "name": "stdout",
     "output_type": "stream",
     "text": [
      "0.001\n"
     ]
    }
   ],
   "source": [
    "import keras.backend as K\n",
    "print(K.eval(model.optimizer.lr))"
   ]
  },
  {
   "cell_type": "markdown",
   "metadata": {},
   "source": [
    "# Summary of the model and a tree scrature of the model"
   ]
  },
  {
   "cell_type": "code",
   "execution_count": 25,
   "metadata": {},
   "outputs": [
    {
     "name": "stdout",
     "output_type": "stream",
     "text": [
      "Model: \"sequential\"\n",
      "_________________________________________________________________\n",
      "Layer (type)                 Output Shape              Param #   \n",
      "=================================================================\n",
      "lstm (LSTM)                  (None, 1, 200)            176800    \n",
      "_________________________________________________________________\n",
      "dropout (Dropout)            (None, 1, 200)            0         \n",
      "_________________________________________________________________\n",
      "lstm_1 (LSTM)                (None, 200)               320800    \n",
      "_________________________________________________________________\n",
      "dropout_1 (Dropout)          (None, 200)               0         \n",
      "_________________________________________________________________\n",
      "activation (Activation)      (None, 200)               0         \n",
      "_________________________________________________________________\n",
      "dense (Dense)                (None, 1)                 201       \n",
      "=================================================================\n",
      "Total params: 497,801\n",
      "Trainable params: 497,801\n",
      "Non-trainable params: 0\n",
      "_________________________________________________________________\n"
     ]
    }
   ],
   "source": [
    "model.summary()"
   ]
  },
  {
   "cell_type": "code",
   "execution_count": 26,
   "metadata": {},
   "outputs": [
    {
     "data": {
      "image/png": "[encoded data removed]",
      "text/plain": [
       "<IPython.core.display.Image object>"
      ]
     },
     "execution_count": 26,
     "metadata": {},
     "output_type": "execute_result"
    }
   ],
   "source": [
    "tf.keras.utils.plot_model(model)"
   ]
  },
  {
   "cell_type": "markdown",
   "metadata": {},
   "source": [
    "# Train the model"
   ]
  },
  {
   "cell_type": "code",
   "execution_count": 27,
   "metadata": {},
   "outputs": [
    {
     "name": "stdout",
     "output_type": "stream",
     "text": [
      "Train for 200 steps, validate for 50 steps\n",
      "Epoch 1/15\n",
      "200/200 [==============================] - 7s 35ms/step - loss: 0.0243 - val_loss: 0.0016\n",
      "Epoch 2/15\n",
      "200/200 [==============================] - 2s 8ms/step - loss: 9.2865e-04 - val_loss: 0.0045\n",
      "Epoch 3/15\n",
      "200/200 [==============================] - 2s 8ms/step - loss: 8.2369e-04 - val_loss: 0.0029\n",
      "Epoch 4/15\n",
      "200/200 [==============================] - 2s 8ms/step - loss: 6.7792e-04 - val_loss: 0.0047\n",
      "Epoch 5/15\n",
      "200/200 [==============================] - 2s 8ms/step - loss: 5.5074e-04 - val_loss: 0.0040\n",
      "Epoch 6/15\n",
      "200/200 [==============================] - 2s 8ms/step - loss: 4.9589e-04 - val_loss: 0.0027\n",
      "Epoch 7/15\n",
      "200/200 [==============================] - 2s 8ms/step - loss: 4.4899e-04 - val_loss: 0.0023\n",
      "Epoch 8/15\n",
      "200/200 [==============================] - 2s 8ms/step - loss: 4.0035e-04 - val_loss: 0.0025\n",
      "Epoch 9/15\n",
      "200/200 [==============================] - 2s 8ms/step - loss: 3.9844e-04 - val_loss: 0.0026\n",
      "Epoch 10/15\n",
      "200/200 [==============================] - 2s 8ms/step - loss: 3.3967e-04 - val_loss: 0.0014\n",
      "Epoch 11/15\n",
      "200/200 [==============================] - 2s 9ms/step - loss: 3.1136e-04 - val_loss: 0.0016\n",
      "Epoch 12/15\n",
      "200/200 [==============================] - 2s 9ms/step - loss: 2.8934e-04 - val_loss: 9.3864e-04\n",
      "Epoch 13/15\n",
      "200/200 [==============================] - 2s 9ms/step - loss: 2.8809e-04 - val_loss: 0.0014\n",
      "Epoch 14/15\n",
      "200/200 [==============================] - 2s 9ms/step - loss: 2.7711e-04 - val_loss: 0.0012\n",
      "Epoch 15/15\n",
      "200/200 [==============================] - 2s 8ms/step - loss: 2.7152e-04 - val_loss: 8.9579e-04\n"
     ]
    }
   ],
   "source": [
    "lstm = model.fit(train_univariate, epochs=15,steps_per_epoch=200,validation_data=val_univariate,validation_steps=50)\n"
   ]
  },
  {
   "cell_type": "code",
   "execution_count": 28,
   "metadata": {},
   "outputs": [
    {
     "data": {
      "text/plain": [
       "{'batch_size': None,\n",
       " 'epochs': 15,\n",
       " 'steps': 200,\n",
       " 'samples': 200,\n",
       " 'verbose': 0,\n",
       " 'do_validation': True,\n",
       " 'metrics': ['loss', 'val_loss']}"
      ]
     },
     "execution_count": 28,
     "metadata": {},
     "output_type": "execute_result"
    }
   ],
   "source": [
    "lstm.params"
   ]
  },
  {
   "cell_type": "code",
   "execution_count": 29,
   "metadata": {},
   "outputs": [],
   "source": [
    "# model.save(\"my_model\")"
   ]
  },
  {
   "cell_type": "markdown",
   "metadata": {},
   "source": [
    "# Method we used to print the windows"
   ]
  },
  {
   "cell_type": "code",
   "execution_count": 30,
   "metadata": {},
   "outputs": [],
   "source": [
    "def plot(timeseries, real, prediction):\n",
    "    plt.plot(timeseries.flatten(), \".-\")\n",
    "    time_steps = timeseries[0].shape[0]\n",
    "    if real is not None:\n",
    "        plt.plot(time_steps, real,\"bx\", markersize=10)\n",
    "    if prediction is not None:\n",
    "        plt.plot (time_steps, prediction,'go')\n",
    "    return plt"
   ]
  },
  {
   "cell_type": "markdown",
   "metadata": {},
   "source": [
    "# Model evaluate on validation set"
   ]
  },
  {
   "cell_type": "code",
   "execution_count": 31,
   "metadata": {},
   "outputs": [],
   "source": [
    "y_true_val= Y_val\n",
    "y_true_val= scaler.inverse_transform(y_true_val.reshape(-1, 1)).reshape(-1 ,)"
   ]
  },
  {
   "cell_type": "code",
   "execution_count": 32,
   "metadata": {},
   "outputs": [],
   "source": [
    "y_pred_val = model.predict(X_val).reshape(-1, )\n",
    "y_pred_val = scaler.inverse_transform(y_pred_val.reshape(-1, 1)).reshape(-1 ,)"
   ]
  },
  {
   "cell_type": "markdown",
   "metadata": {},
   "source": [
    " "
   ]
  },
  {
   "cell_type": "code",
   "execution_count": 33,
   "metadata": {},
   "outputs": [
    {
     "data": {
      "text/plain": [
       "3.5098215318724235"
      ]
     },
     "execution_count": 33,
     "metadata": {},
     "output_type": "execute_result"
    }
   ],
   "source": [
    "from sklearn.metrics import mean_absolute_error\n",
    "mean_absolute_error(y_true_val, y_pred_val)"
   ]
  },
  {
   "cell_type": "code",
   "execution_count": 34,
   "metadata": {},
   "outputs": [
    {
     "data": {
      "text/plain": [
       "15.649325542496506"
      ]
     },
     "execution_count": 34,
     "metadata": {},
     "output_type": "execute_result"
    }
   ],
   "source": [
    "from sklearn.metrics import mean_squared_error\n",
    "mean_squared_error(y_true_val, y_pred_val)"
   ]
  },
  {
   "cell_type": "code",
   "execution_count": 35,
   "metadata": {},
   "outputs": [
    {
     "data": {
      "text/plain": [
       "3.9559228433447116"
      ]
     },
     "execution_count": 35,
     "metadata": {},
     "output_type": "execute_result"
    }
   ],
   "source": [
    "# root mean square error\n",
    "rms = sqrt(mean_squared_error(y_true_val, y_pred_val))\n",
    "rms"
   ]
  },
  {
   "cell_type": "code",
   "execution_count": 36,
   "metadata": {
    "scrolled": true
   },
   "outputs": [
    {
     "data": {
      "image/png": "[encoded data removed]",
      "text/plain": [
       "<Figure size 432x288 with 1 Axes>"
      ]
     },
     "metadata": {
      "needs_background": "light"
     },
     "output_type": "display_data"
    }
   ],
   "source": [
    "plt.plot(y_true_val, color = 'blue', label = 'Actual Stock Price')\n",
    "plt.plot(y_pred_val, color = 'red', label = 'Predicted Stock Price')\n",
    "plt.title('APPLE stock price prediction')\n",
    "plt.xlabel('Time')\n",
    "plt.ylabel('Stock Price')\n",
    "plt.legend()\n",
    "plt.show()"
   ]
  },
  {
   "cell_type": "markdown",
   "metadata": {},
   "source": [
    "# Plot some example windows\n",
    "These are only some of the windows we ploted as an example"
   ]
  },
  {
   "cell_type": "code",
   "execution_count": 37,
   "metadata": {},
   "outputs": [
    {
     "data": {
      "text/plain": [
       "<module 'matplotlib.pyplot' from 'C:\\\\Users\\\\KILDE\\\\anaconda3\\\\lib\\\\site-packages\\\\matplotlib\\\\pyplot.py'>"
      ]
     },
     "execution_count": 37,
     "metadata": {},
     "output_type": "execute_result"
    },
    {
     "data": {
      "image/png": "[encoded data removed]",
      "text/plain": [
       "<Figure size 432x288 with 1 Axes>"
      ]
     },
     "metadata": {
      "needs_background": "light"
     },
     "output_type": "display_data"
    }
   ],
   "source": [
    "plot(X_train[0],Y_train[0],model.predict(X_train)[0])"
   ]
  },
  {
   "cell_type": "code",
   "execution_count": 38,
   "metadata": {},
   "outputs": [
    {
     "data": {
      "text/plain": [
       "<module 'matplotlib.pyplot' from 'C:\\\\Users\\\\KILDE\\\\anaconda3\\\\lib\\\\site-packages\\\\matplotlib\\\\pyplot.py'>"
      ]
     },
     "execution_count": 38,
     "metadata": {},
     "output_type": "execute_result"
    },
    {
     "data": {
      "image/png": "[encoded data removed]",
      "text/plain": [
       "<Figure size 432x288 with 1 Axes>"
      ]
     },
     "metadata": {
      "needs_background": "light"
     },
     "output_type": "display_data"
    }
   ],
   "source": [
    "plot(X_train[1],Y_train[1],model.predict(X_train)[1])"
   ]
  },
  {
   "cell_type": "code",
   "execution_count": 39,
   "metadata": {},
   "outputs": [
    {
     "data": {
      "text/plain": [
       "<module 'matplotlib.pyplot' from 'C:\\\\Users\\\\KILDE\\\\anaconda3\\\\lib\\\\site-packages\\\\matplotlib\\\\pyplot.py'>"
      ]
     },
     "execution_count": 39,
     "metadata": {},
     "output_type": "execute_result"
    },
    {
     "data": {
      "image/png": "[encoded data removed]",
      "text/plain": [
       "<Figure size 432x288 with 1 Axes>"
      ]
     },
     "metadata": {
      "needs_background": "light"
     },
     "output_type": "display_data"
    }
   ],
   "source": [
    "plot(X_train[18],Y_train[18],model.predict(X_train)[18])"
   ]
  },
  {
   "cell_type": "markdown",
   "metadata": {},
   "source": [
    "# Evaluation on test set"
   ]
  },
  {
   "cell_type": "code",
   "execution_count": 40,
   "metadata": {},
   "outputs": [],
   "source": [
    "y_true_test = Y_test\n",
    "y_true_test = scaler.inverse_transform(Y_test.reshape(-1, 1)).reshape(-1 ,)"
   ]
  },
  {
   "cell_type": "code",
   "execution_count": 41,
   "metadata": {},
   "outputs": [],
   "source": [
    "y_pred_test = model.predict(X_test).reshape(-1, )\n",
    "y_pred_test = scaler.inverse_transform(y_pred_test.reshape(-1, 1)).reshape(-1 ,)"
   ]
  },
  {
   "cell_type": "code",
   "execution_count": 42,
   "metadata": {},
   "outputs": [
    {
     "data": {
      "text/plain": [
       "1.6581815138613172"
      ]
     },
     "execution_count": 42,
     "metadata": {},
     "output_type": "execute_result"
    }
   ],
   "source": [
    "from sklearn.metrics import mean_absolute_error\n",
    "mean_absolute_error(y_true_test, y_pred_test)"
   ]
  },
  {
   "cell_type": "code",
   "execution_count": 43,
   "metadata": {},
   "outputs": [
    {
     "data": {
      "text/plain": [
       "4.5283824433916315"
      ]
     },
     "execution_count": 43,
     "metadata": {},
     "output_type": "execute_result"
    }
   ],
   "source": [
    "from sklearn.metrics import mean_squared_error\n",
    "mean_squared_error(y_true_test, y_pred_test)"
   ]
  },
  {
   "cell_type": "code",
   "execution_count": 44,
   "metadata": {},
   "outputs": [
    {
     "data": {
      "text/plain": [
       "2.127999634255521"
      ]
     },
     "execution_count": 44,
     "metadata": {},
     "output_type": "execute_result"
    }
   ],
   "source": [
    "# root mean square error\n",
    "rms = sqrt(mean_squared_error(y_true_test, y_pred_test))\n",
    "rms"
   ]
  },
  {
   "cell_type": "code",
   "execution_count": 45,
   "metadata": {},
   "outputs": [
    {
     "data": {
      "text/plain": [
       "1.5848492102282872"
      ]
     },
     "execution_count": 45,
     "metadata": {},
     "output_type": "execute_result"
    }
   ],
   "source": [
    "bill= np.mean((np.absolute(y_true_test-y_pred_test)/y_true_test)*100)\n",
    "bill"
   ]
  },
  {
   "cell_type": "code",
   "execution_count": 46,
   "metadata": {},
   "outputs": [
    {
     "data": {
      "image/png": "[encoded data removed]",
      "text/plain": [
       "<Figure size 432x288 with 1 Axes>"
      ]
     },
     "metadata": {
      "needs_background": "light"
     },
     "output_type": "display_data"
    }
   ],
   "source": [
    "plt.plot(y_true_test, color = 'blue', label = 'Actual Stock Price')\n",
    "plt.plot(y_pred_test, color = 'red', label = 'Predicted Stock Price')\n",
    "plt.title('APPLE stock price prediction')\n",
    "plt.xlabel('Time')\n",
    "plt.ylabel('Stock Price')\n",
    "plt.legend()\n",
    "plt.show()"
   ]
  },
  {
   "cell_type": "markdown",
   "metadata": {},
   "source": [
    "# websites used to create this program"
   ]
  },
  {
   "cell_type": "markdown",
   "metadata": {},
   "source": [
    "https://www.tensorflow.org/tutorials/structured_data/time_series"
   ]
  },
  {
   "cell_type": "code",
   "execution_count": null,
   "metadata": {},
   "outputs": [],
   "source": []
  }
 ],
 "metadata": {
  "kernelspec": {
   "display_name": "Python 3",
   "language": "python",
   "name": "python3"
  },
  "language_info": {
   "codemirror_mode": {
    "name": "ipython",
    "version": 3
   },
   "file_extension": ".py",
   "mimetype": "text/x-python",
   "name": "python",
   "nbconvert_exporter": "python",
   "pygments_lexer": "ipython3",
   "version": "3.7.7"
  }
 },
 "nbformat": 4,
 "nbformat_minor": 4
}
