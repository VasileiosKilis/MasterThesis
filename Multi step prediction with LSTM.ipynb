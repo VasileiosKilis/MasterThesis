{
 "cells": [
  {
   "cell_type": "markdown",
   "metadata": {},
   "source": [
    "# Multi-step model\n",
    "We start by importing usefull modules and checking if we have the correct versions installed."
   ]
  },
  {
   "cell_type": "code",
   "execution_count": 1,
   "metadata": {},
   "outputs": [],
   "source": [
    "import tensorflow as tf\n",
    "\n",
    "import sys\n",
    "assert sys.version_info >= (3,5)\n",
    "\n",
    "import sklearn\n",
    "assert sklearn.__version__ >= \"0.20\"\n",
    "\n",
    "# Common imports\n",
    "import numpy as np\n",
    "import os\n",
    "import pandas as pd\n",
    "\n",
    "# min-maxScaler\n",
    "from sklearn.preprocessing import MinMaxScaler\n",
    "\n",
    "# To plot\n",
    "%matplotlib inline\n",
    "import matplotlib as mpl\n",
    "import matplotlib.pyplot as plt"
   ]
  },
  {
   "cell_type": "markdown",
   "metadata": {},
   "source": [
    "# Here we import the data, the first comments is an example of how we import the data on mac, the second on windows."
   ]
  },
  {
   "cell_type": "code",
   "execution_count": 2,
   "metadata": {},
   "outputs": [
    {
     "data": {
      "text/html": [
       "<div>\n",
       "<style scoped>\n",
       "    .dataframe tbody tr th:only-of-type {\n",
       "        vertical-align: middle;\n",
       "    }\n",
       "\n",
       "    .dataframe tbody tr th {\n",
       "        vertical-align: top;\n",
       "    }\n",
       "\n",
       "    .dataframe thead th {\n",
       "        text-align: right;\n",
       "    }\n",
       "</style>\n",
       "<table border=\"1\" class=\"dataframe\">\n",
       "  <thead>\n",
       "    <tr style=\"text-align: right;\">\n",
       "      <th></th>\n",
       "      <th>Date</th>\n",
       "      <th>Open</th>\n",
       "      <th>High</th>\n",
       "      <th>Low</th>\n",
       "      <th>Close</th>\n",
       "      <th>Adj Close</th>\n",
       "      <th>Volume</th>\n",
       "    </tr>\n",
       "  </thead>\n",
       "  <tbody>\n",
       "    <tr>\n",
       "      <th>0</th>\n",
       "      <td>2008-06-09</td>\n",
       "      <td>26.398571</td>\n",
       "      <td>26.420000</td>\n",
       "      <td>25.107143</td>\n",
       "      <td>25.944286</td>\n",
       "      <td>22.459904</td>\n",
       "      <td>472098200</td>\n",
       "    </tr>\n",
       "    <tr>\n",
       "      <th>1</th>\n",
       "      <td>2008-06-10</td>\n",
       "      <td>25.787144</td>\n",
       "      <td>26.682858</td>\n",
       "      <td>25.574286</td>\n",
       "      <td>26.520000</td>\n",
       "      <td>22.958296</td>\n",
       "      <td>285235300</td>\n",
       "    </tr>\n",
       "    <tr>\n",
       "      <th>2</th>\n",
       "      <td>2008-06-11</td>\n",
       "      <td>26.334286</td>\n",
       "      <td>26.571428</td>\n",
       "      <td>25.655714</td>\n",
       "      <td>25.830000</td>\n",
       "      <td>22.360960</td>\n",
       "      <td>240387700</td>\n",
       "    </tr>\n",
       "    <tr>\n",
       "      <th>3</th>\n",
       "      <td>2008-06-12</td>\n",
       "      <td>25.927143</td>\n",
       "      <td>26.085714</td>\n",
       "      <td>24.457144</td>\n",
       "      <td>24.751429</td>\n",
       "      <td>21.427246</td>\n",
       "      <td>327083400</td>\n",
       "    </tr>\n",
       "    <tr>\n",
       "      <th>4</th>\n",
       "      <td>2008-06-13</td>\n",
       "      <td>24.520000</td>\n",
       "      <td>24.879999</td>\n",
       "      <td>23.615715</td>\n",
       "      <td>24.624287</td>\n",
       "      <td>21.317177</td>\n",
       "      <td>336489300</td>\n",
       "    </tr>\n",
       "  </tbody>\n",
       "</table>\n",
       "</div>"
      ],
      "text/plain": [
       "         Date       Open       High        Low      Close  Adj Close  \\\n",
       "0  2008-06-09  26.398571  26.420000  25.107143  25.944286  22.459904   \n",
       "1  2008-06-10  25.787144  26.682858  25.574286  26.520000  22.958296   \n",
       "2  2008-06-11  26.334286  26.571428  25.655714  25.830000  22.360960   \n",
       "3  2008-06-12  25.927143  26.085714  24.457144  24.751429  21.427246   \n",
       "4  2008-06-13  24.520000  24.879999  23.615715  24.624287  21.317177   \n",
       "\n",
       "      Volume  \n",
       "0  472098200  \n",
       "1  285235300  \n",
       "2  240387700  \n",
       "3  327083400  \n",
       "4  336489300  "
      ]
     },
     "execution_count": 2,
     "metadata": {},
     "output_type": "execute_result"
    }
   ],
   "source": [
    "# \"/Users/vasileioskilis/Desktop/projectA1988/dataset/GOOGL5yearsd.csv\"\n",
    "# \"C:\\\\Users\\\\KILDE\\\\Desktop\\\\projectA\\\\dataset\\\\GOOGL5yearsd.csv\"\n",
    "\n",
    "stock=pd.read_csv(\"C:\\\\Users\\\\KILDE\\\\Desktop\\\\vxk969\\\\dataset\\\\AAPL_.csv\")\n",
    "stock.head()"
   ]
  },
  {
   "cell_type": "markdown",
   "metadata": {},
   "source": [
    "# We create a panada series, with Data as an index to the closing price and plot it"
   ]
  },
  {
   "cell_type": "code",
   "execution_count": 3,
   "metadata": {},
   "outputs": [
    {
     "data": {
      "text/plain": [
       "Date\n",
       "2008-06-09    25.944286\n",
       "2008-06-10    26.520000\n",
       "2008-06-11    25.830000\n",
       "2008-06-12    24.751429\n",
       "2008-06-13    24.624287\n",
       "Name: Close, dtype: float64"
      ]
     },
     "execution_count": 3,
     "metadata": {},
     "output_type": "execute_result"
    }
   ],
   "source": [
    "close_price = stock['Close']\n",
    "close_price.index = stock['Date']\n",
    "close_price.head()"
   ]
  },
  {
   "cell_type": "markdown",
   "metadata": {},
   "source": [
    "# Reshape close price and scale the data"
   ]
  },
  {
   "cell_type": "code",
   "execution_count": 4,
   "metadata": {},
   "outputs": [],
   "source": [
    "close_price = stock.Close.values"
   ]
  },
  {
   "cell_type": "code",
   "execution_count": 5,
   "metadata": {},
   "outputs": [],
   "source": [
    "close_price = np.reshape(close_price,(-1,1))"
   ]
  },
  {
   "cell_type": "code",
   "execution_count": 6,
   "metadata": {},
   "outputs": [],
   "source": [
    "scaler = MinMaxScaler()\n",
    "data_normalised = scaler.fit_transform(close_price)"
   ]
  },
  {
   "cell_type": "markdown",
   "metadata": {},
   "source": [
    "# We split the dataset into 80% train, 10% validation and 10% test"
   ]
  },
  {
   "cell_type": "code",
   "execution_count": 7,
   "metadata": {},
   "outputs": [],
   "source": [
    "train_size = int(len(data_normalised) * 0.80)\n",
    "half_rest = int((len(data_normalised) - train_size)/2)\n",
    "\n",
    "train_set = data_normalised[0:train_size,:]\n",
    "val_set = data_normalised[train_size:train_size+half_rest,:]\n",
    "test_set = data_normalised[train_size+half_rest:len(data_normalised),:]"
   ]
  },
  {
   "cell_type": "markdown",
   "metadata": {},
   "source": [
    "# Method that creates sliding windows"
   ]
  },
  {
   "cell_type": "code",
   "execution_count": 8,
   "metadata": {},
   "outputs": [],
   "source": [
    "def createBigWindows(dataset, window , predictionAmount):\n",
    "    X_train = []\n",
    "    Y_train = []\n",
    "    \n",
    "    for i in range(len(dataset)-window-1):\n",
    "        X_train.append(dataset[i:(i+window)-predictionAmount,0])\n",
    "        Y_train.append(dataset[((i+window)-predictionAmount):i+window,0])\n",
    "    return np.array(X_train),np.array(Y_train)"
   ]
  },
  {
   "cell_type": "markdown",
   "metadata": {},
   "source": [
    "# Here we choose window size and how many steps ahed we want to predict"
   ]
  },
  {
   "cell_type": "code",
   "execution_count": 9,
   "metadata": {},
   "outputs": [],
   "source": [
    "fututePredictionNumber = 5\n",
    "windowsSize = 20"
   ]
  },
  {
   "cell_type": "code",
   "execution_count": 10,
   "metadata": {},
   "outputs": [],
   "source": [
    "X_train, Y_train = createBigWindows(train_set,windowsSize,fututePredictionNumber)"
   ]
  },
  {
   "cell_type": "code",
   "execution_count": 11,
   "metadata": {},
   "outputs": [],
   "source": [
    "X_train = np.reshape(X_train, (X_train.shape[0], 1, X_train.shape[1]))"
   ]
  },
  {
   "cell_type": "code",
   "execution_count": 12,
   "metadata": {},
   "outputs": [],
   "source": [
    "X_val, Y_val = createBigWindows(val_set,windowsSize,fututePredictionNumber)\n",
    "X_val = np.reshape(X_val, (X_val.shape[0], 1, X_val.shape[1]))"
   ]
  },
  {
   "cell_type": "code",
   "execution_count": 13,
   "metadata": {},
   "outputs": [],
   "source": [
    "X_test, Y_test = createBigWindows(test_set,windowsSize,fututePredictionNumber)\n",
    "X_test = np.reshape(X_test, (X_test.shape[0], 1, X_test.shape[1]))"
   ]
  },
  {
   "cell_type": "markdown",
   "metadata": {},
   "source": [
    "# We combine the X_train and Y_train to tensors and shuffle them, also we choose the batch size"
   ]
  },
  {
   "cell_type": "code",
   "execution_count": 14,
   "metadata": {},
   "outputs": [],
   "source": [
    "BATCH_SIZE = 32\n",
    "BUFFER_SIZE = 10000\n",
    "\n",
    "suffleTrain = tf.data.Dataset.from_tensor_slices((X_train, Y_train))\n",
    "suffleTrain  = suffleTrain .cache().shuffle(BUFFER_SIZE).batch(BATCH_SIZE).repeat()\n",
    "\n",
    "suffleVal = tf.data.Dataset.from_tensor_slices((X_val, Y_val))\n",
    "suffleVal = suffleVal.batch(BATCH_SIZE).repeat()"
   ]
  },
  {
   "cell_type": "markdown",
   "metadata": {},
   "source": [
    "Here we were changing the learning's rate value for the experiments"
   ]
  },
  {
   "cell_type": "code",
   "execution_count": 15,
   "metadata": {},
   "outputs": [],
   "source": [
    " opt = tf.keras.optimizers.RMSprop(learning_rate=0.0008,clipvalue=1.0)"
   ]
  },
  {
   "cell_type": "markdown",
   "metadata": {},
   "source": [
    "# Model and train the model\n",
    "This is the best model we found"
   ]
  },
  {
   "cell_type": "code",
   "execution_count": 16,
   "metadata": {},
   "outputs": [
    {
     "name": "stdout",
     "output_type": "stream",
     "text": [
      "Train for 200 steps, validate for 50 steps\n",
      "Epoch 1/15\n",
      "200/200 [==============================] - 6s 32ms/step - loss: 0.0202 - val_loss: 0.0018\n",
      "Epoch 2/15\n",
      "200/200 [==============================] - 1s 3ms/step - loss: 5.8700e-04 - val_loss: 0.0059\n",
      "Epoch 3/15\n",
      "200/200 [==============================] - 1s 3ms/step - loss: 5.4070e-04 - val_loss: 0.0034\n",
      "Epoch 4/15\n",
      "200/200 [==============================] - 1s 3ms/step - loss: 5.2416e-04 - val_loss: 0.0035\n",
      "Epoch 5/15\n",
      "200/200 [==============================] - 1s 3ms/step - loss: 4.8149e-04 - val_loss: 0.0017\n",
      "Epoch 6/15\n",
      "200/200 [==============================] - 1s 3ms/step - loss: 4.6751e-04 - val_loss: 0.0018\n",
      "Epoch 7/15\n",
      "200/200 [==============================] - 1s 3ms/step - loss: 4.4128e-04 - val_loss: 0.0024\n",
      "Epoch 8/15\n",
      "200/200 [==============================] - 1s 3ms/step - loss: 4.3281e-04 - val_loss: 0.0032\n",
      "Epoch 9/15\n",
      "200/200 [==============================] - 1s 3ms/step - loss: 4.1133e-04 - val_loss: 0.0021\n",
      "Epoch 10/15\n",
      "200/200 [==============================] - 1s 3ms/step - loss: 3.9994e-04 - val_loss: 0.0014\n",
      "Epoch 11/15\n",
      "200/200 [==============================] - 1s 3ms/step - loss: 3.7352e-04 - val_loss: 0.0010\n",
      "Epoch 12/15\n",
      "200/200 [==============================] - 1s 3ms/step - loss: 3.8562e-04 - val_loss: 0.0020\n",
      "Epoch 13/15\n",
      "200/200 [==============================] - 1s 3ms/step - loss: 3.6203e-04 - val_loss: 0.0017\n",
      "Epoch 14/15\n",
      "200/200 [==============================] - 1s 3ms/step - loss: 3.6298e-04 - val_loss: 0.0011\n",
      "Epoch 15/15\n",
      "200/200 [==============================] - 1s 4ms/step - loss: 3.6045e-04 - val_loss: 9.1404e-04\n"
     ]
    }
   ],
   "source": [
    "np.random.seed(42)\n",
    "tf.random.set_seed(42)\n",
    "\n",
    "model = tf.keras.models.Sequential([\n",
    "    tf.keras.layers.LSTM(30, return_sequences=True, input_shape= X_train.shape[-2:]),\n",
    "    tf.keras.layers.LSTM(30),\n",
    "    tf.keras.layers.Dense(fututePredictionNumber)\n",
    "])\n",
    "model.compile(loss=\"mse\", optimizer=opt)\n",
    "history = model.fit(suffleTrain,epochs=15,steps_per_epoch=200,validation_data=suffleVal,validation_steps=50)"
   ]
  },
  {
   "cell_type": "markdown",
   "metadata": {},
   "source": [
    "# Summary of the model and a tree scrature of the model"
   ]
  },
  {
   "cell_type": "code",
   "execution_count": 17,
   "metadata": {},
   "outputs": [
    {
     "name": "stdout",
     "output_type": "stream",
     "text": [
      "Model: \"sequential\"\n",
      "_________________________________________________________________\n",
      "Layer (type)                 Output Shape              Param #   \n",
      "=================================================================\n",
      "lstm (LSTM)                  (None, 1, 30)             5520      \n",
      "_________________________________________________________________\n",
      "lstm_1 (LSTM)                (None, 30)                7320      \n",
      "_________________________________________________________________\n",
      "dense (Dense)                (None, 5)                 155       \n",
      "=================================================================\n",
      "Total params: 12,995\n",
      "Trainable params: 12,995\n",
      "Non-trainable params: 0\n",
      "_________________________________________________________________\n"
     ]
    }
   ],
   "source": [
    "model.summary()"
   ]
  },
  {
   "cell_type": "code",
   "execution_count": 18,
   "metadata": {},
   "outputs": [
    {
     "data": {
      "image/png": "[encoded data removed]",
      "text/plain": [
       "<IPython.core.display.Image object>"
      ]
     },
     "execution_count": 18,
     "metadata": {},
     "output_type": "execute_result"
    }
   ],
   "source": [
    "tf.keras.utils.plot_model(model)"
   ]
  },
  {
   "cell_type": "markdown",
   "metadata": {},
   "source": [
    "# Plot some example windows"
   ]
  },
  {
   "cell_type": "code",
   "execution_count": 19,
   "metadata": {},
   "outputs": [],
   "source": [
    "Y_pred = model.predict(X_train)"
   ]
  },
  {
   "cell_type": "code",
   "execution_count": 20,
   "metadata": {},
   "outputs": [],
   "source": [
    "windowNO=0"
   ]
  },
  {
   "cell_type": "code",
   "execution_count": 21,
   "metadata": {},
   "outputs": [],
   "source": [
    "y_pred = Y_pred[windowNO]\n",
    "y_pred = scaler.inverse_transform(y_pred.reshape(-1, 1)).reshape(-1 ,)"
   ]
  },
  {
   "cell_type": "code",
   "execution_count": 22,
   "metadata": {},
   "outputs": [],
   "source": [
    "y_true = Y_train[windowNO]\n",
    "y_true= scaler.inverse_transform(y_true.reshape(-1, 1)).reshape(-1 ,)"
   ]
  },
  {
   "cell_type": "code",
   "execution_count": 23,
   "metadata": {},
   "outputs": [],
   "source": [
    "X_true = X_train[windowNO]\n",
    "X_true = scaler.inverse_transform(X_true.reshape(-1, 1)).reshape(-1 ,)\n"
   ]
  },
  {
   "cell_type": "code",
   "execution_count": 24,
   "metadata": {},
   "outputs": [],
   "source": [
    "def plot(timeseries, real, prediction):\n",
    "    plt.plot(timeseries.flatten(), \".-\")\n",
    "    time_steps = timeseries.shape\n",
    "    if real is not None:\n",
    "        plt.plot(time_steps, real,\"bx\", markersize=10)\n",
    "    if prediction is not None:\n",
    "        plt.plot (time_steps, prediction,'go')\n",
    "    return plt"
   ]
  },
  {
   "cell_type": "code",
   "execution_count": 25,
   "metadata": {},
   "outputs": [],
   "source": [
    "def create_time_steps(length):\n",
    "  return list(range(-length, 0))"
   ]
  },
  {
   "cell_type": "code",
   "execution_count": 26,
   "metadata": {},
   "outputs": [],
   "source": [
    "n_steps = 1"
   ]
  },
  {
   "cell_type": "code",
   "execution_count": 62,
   "metadata": {},
   "outputs": [],
   "source": [
    "def multiPlot(history, true_future, prediction):\n",
    "  plt.plot(create_time_steps(len(history)), np.array(history), label='Historical Data')\n",
    "  plt.plot(np.arange(len(true_future)), np.array(true_future), 'bo',label='True Data')\n",
    "  if prediction.any():\n",
    "    plt.plot(np.arange(len(true_future)), np.array(prediction), 'go',label='Predictions')\n",
    "  plt.legend(loc='upper right')\n",
    "  plt.show()"
   ]
  },
  {
   "cell_type": "code",
   "execution_count": 63,
   "metadata": {},
   "outputs": [
    {
     "data": {
      "image/png": "[encoded data removed]",
      "text/plain": [
       "<Figure size 432x288 with 1 Axes>"
      ]
     },
     "metadata": {
      "needs_background": "light"
     },
     "output_type": "display_data"
    }
   ],
   "source": [
    "multiPlot(X_true, y_true, y_pred)"
   ]
  },
  {
   "cell_type": "markdown",
   "metadata": {},
   "source": [
    "# Model evaluate on validation set"
   ]
  },
  {
   "cell_type": "code",
   "execution_count": 64,
   "metadata": {},
   "outputs": [],
   "source": [
    "y_true_val= Y_val\n",
    "y_true_val= scaler.inverse_transform(y_true_val.reshape(-1, 1)).reshape(-1 ,)"
   ]
  },
  {
   "cell_type": "code",
   "execution_count": 65,
   "metadata": {},
   "outputs": [],
   "source": [
    "y_pred_val = model.predict(X_val).reshape(-1, )\n",
    "y_pred_val = scaler.inverse_transform(y_pred_val.reshape(-1, 1)).reshape(-1 ,)"
   ]
  },
  {
   "cell_type": "code",
   "execution_count": 66,
   "metadata": {},
   "outputs": [
    {
     "data": {
      "text/plain": [
       "2.8259615819673964"
      ]
     },
     "execution_count": 66,
     "metadata": {},
     "output_type": "execute_result"
    }
   ],
   "source": [
    "from sklearn.metrics import mean_absolute_error\n",
    "mean_absolute_error(y_true_val, y_pred_val)"
   ]
  },
  {
   "cell_type": "code",
   "execution_count": 67,
   "metadata": {},
   "outputs": [
    {
     "data": {
      "text/plain": [
       "12.941102522826846"
      ]
     },
     "execution_count": 67,
     "metadata": {},
     "output_type": "execute_result"
    }
   ],
   "source": [
    "from sklearn.metrics import mean_squared_error\n",
    "mean_squared_error(y_true_val, y_pred_val)"
   ]
  },
  {
   "cell_type": "code",
   "execution_count": 68,
   "metadata": {},
   "outputs": [
    {
     "data": {
      "text/plain": [
       "3.5973743929186526"
      ]
     },
     "execution_count": 68,
     "metadata": {},
     "output_type": "execute_result"
    }
   ],
   "source": [
    "# root mean square error\n",
    "from math import sqrt\n",
    "rms = sqrt(mean_squared_error(y_true_val, y_pred_val))\n",
    "rms"
   ]
  },
  {
   "cell_type": "code",
   "execution_count": 69,
   "metadata": {},
   "outputs": [
    {
     "data": {
      "image/png": "[encoded data removed]",
      "text/plain": [
       "<Figure size 432x288 with 1 Axes>"
      ]
     },
     "metadata": {
      "needs_background": "light"
     },
     "output_type": "display_data"
    }
   ],
   "source": [
    "plt.plot(y_true_val, color = 'blue', label = 'Actual Stock Price')\n",
    "plt.plot(y_pred_val, color = 'red', label = 'Predicted Stock Price')\n",
    "plt.title('APPLE stock price prediction')\n",
    "plt.xlabel('Time')\n",
    "plt.ylabel('Stock Price')\n",
    "plt.legend()\n",
    "plt.show()"
   ]
  },
  {
   "cell_type": "markdown",
   "metadata": {},
   "source": [
    "#  Model evaluate on the test set"
   ]
  },
  {
   "cell_type": "code",
   "execution_count": 70,
   "metadata": {},
   "outputs": [],
   "source": [
    "y_true_test = Y_test\n",
    "y_true_test = scaler.inverse_transform(Y_test.reshape(-1, 1)).reshape(-1 ,)"
   ]
  },
  {
   "cell_type": "code",
   "execution_count": 71,
   "metadata": {},
   "outputs": [],
   "source": [
    "y_pred_test = model.predict(X_test).reshape(-1, )\n",
    "y_pred_test = scaler.inverse_transform(y_pred_test.reshape(-1, 1)).reshape(-1 ,)"
   ]
  },
  {
   "cell_type": "code",
   "execution_count": 72,
   "metadata": {},
   "outputs": [
    {
     "data": {
      "text/plain": [
       "2.638321838846909"
      ]
     },
     "execution_count": 72,
     "metadata": {},
     "output_type": "execute_result"
    }
   ],
   "source": [
    "from sklearn.metrics import mean_absolute_error\n",
    "mean_absolute_error(y_true_test, y_pred_test)"
   ]
  },
  {
   "cell_type": "code",
   "execution_count": 73,
   "metadata": {},
   "outputs": [
    {
     "data": {
      "text/plain": [
       "12.167728559509689"
      ]
     },
     "execution_count": 73,
     "metadata": {},
     "output_type": "execute_result"
    }
   ],
   "source": [
    "from sklearn.metrics import mean_squared_error\n",
    "mean_squared_error(y_true_test, y_pred_test)"
   ]
  },
  {
   "cell_type": "code",
   "execution_count": 74,
   "metadata": {},
   "outputs": [
    {
     "data": {
      "text/plain": [
       "3.4882271370295954"
      ]
     },
     "execution_count": 74,
     "metadata": {},
     "output_type": "execute_result"
    }
   ],
   "source": [
    "# root mean square error\n",
    "rms = sqrt(mean_squared_error(y_true_test, y_pred_test))\n",
    "rms"
   ]
  },
  {
   "cell_type": "code",
   "execution_count": 75,
   "metadata": {},
   "outputs": [
    {
     "data": {
      "image/png": "[encoded data removed]",
      "text/plain": [
       "<Figure size 432x288 with 1 Axes>"
      ]
     },
     "metadata": {
      "needs_background": "light"
     },
     "output_type": "display_data"
    }
   ],
   "source": [
    "plt.plot(y_true_test, color = 'blue', label = 'Actual Stock Price')\n",
    "plt.plot(y_pred_test, color = 'red', label = 'Predicted Stock Price')\n",
    "plt.title('APPLE stock price prediction')\n",
    "plt.xlabel('Time')\n",
    "plt.ylabel('Stock Price')\n",
    "plt.legend()\n",
    "plt.show()"
   ]
  },
  {
   "cell_type": "markdown",
   "metadata": {},
   "source": [
    "# websites used to create this program"
   ]
  },
  {
   "cell_type": "markdown",
   "metadata": {},
   "source": [
    "https://www.tensorflow.org/tutorials/structured_data/time_series"
   ]
  },
  {
   "cell_type": "code",
   "execution_count": null,
   "metadata": {},
   "outputs": [],
   "source": []
  }
 ],
 "metadata": {
  "kernelspec": {
   "display_name": "Python 3",
   "language": "python",
   "name": "python3"
  },
  "language_info": {
   "codemirror_mode": {
    "name": "ipython",
    "version": 3
   },
   "file_extension": ".py",
   "mimetype": "text/x-python",
   "name": "python",
   "nbconvert_exporter": "python",
   "pygments_lexer": "ipython3",
   "version": "3.7.7"
  }
 },
 "nbformat": 4,
 "nbformat_minor": 4
}
